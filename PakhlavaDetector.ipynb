{
 "cells": [
  {
   "cell_type": "code",
   "execution_count": 2,
   "id": "942be258",
   "metadata": {},
   "outputs": [],
   "source": [
    "import cv2\n",
    "import numpy as np\n",
    "import glob\n",
    "import random"
   ]
  },
  {
   "cell_type": "code",
   "execution_count": 3,
   "id": "e42759cc",
   "metadata": {},
   "outputs": [],
   "source": [
    "net = cv2.dnn.readNet('yolov3_training_last.weights', 'yolov3_testing.cfg')"
   ]
  },
  {
   "cell_type": "code",
   "execution_count": 4,
   "id": "731343a4",
   "metadata": {},
   "outputs": [],
   "source": [
    "classes = ['pakhlava']"
   ]
  },
  {
   "cell_type": "code",
   "execution_count": 5,
   "id": "38b7c70a",
   "metadata": {},
   "outputs": [],
   "source": [
    "images_path = glob.glob('Pakhlava_test/raw/*.jpg')"
   ]
  },
  {
   "cell_type": "code",
   "execution_count": 6,
   "id": "80db1d61",
   "metadata": {},
   "outputs": [],
   "source": [
    "save_path = glob.glob('Pakhlava_test/result/')"
   ]
  },
  {
   "cell_type": "code",
   "execution_count": 7,
   "id": "7799031c",
   "metadata": {},
   "outputs": [],
   "source": [
    "layer_names = net.getLayerNames()"
   ]
  },
  {
   "cell_type": "code",
   "execution_count": 8,
   "id": "640fd1d4",
   "metadata": {},
   "outputs": [],
   "source": [
    "netUnconOL = net.getUnconnectedOutLayers()"
   ]
  },
  {
   "cell_type": "code",
   "execution_count": 9,
   "id": "07e85813",
   "metadata": {},
   "outputs": [],
   "source": [
    "output_layers = [layer_names[i-1] for i in netUnconOL]"
   ]
  },
  {
   "cell_type": "code",
   "execution_count": 10,
   "id": "4c1b87ae",
   "metadata": {},
   "outputs": [],
   "source": [
    "colors = np.random.uniform(0, 255, size=(len(classes), 3))"
   ]
  },
  {
   "cell_type": "code",
   "execution_count": 11,
   "id": "8da9c397",
   "metadata": {},
   "outputs": [
    {
     "data": {
      "text/plain": [
       "(['Pakhlava_test/raw\\\\0000.jpg',\n",
       "  'Pakhlava_test/raw\\\\0001.jpg',\n",
       "  'Pakhlava_test/raw\\\\0002.jpg',\n",
       "  'Pakhlava_test/raw\\\\0003.jpg',\n",
       "  'Pakhlava_test/raw\\\\0004-breaking.jpg'],\n",
       " ['Pakhlava_test/result/'])"
      ]
     },
     "execution_count": 11,
     "metadata": {},
     "output_type": "execute_result"
    }
   ],
   "source": [
    "images_path, save_path"
   ]
  },
  {
   "cell_type": "code",
   "execution_count": 12,
   "id": "943b11fc",
   "metadata": {},
   "outputs": [],
   "source": [
    "random.shuffle(images_path)"
   ]
  },
  {
   "cell_type": "code",
   "execution_count": 21,
   "id": "7a80bb18",
   "metadata": {},
   "outputs": [
    {
     "name": "stdout",
     "output_type": "stream",
     "text": [
      "0\n",
      "0\n",
      "0\n",
      "0\n",
      "[0 1 3 2]\n",
      "0\n",
      "0\n",
      "0\n",
      "0\n",
      "0\n",
      "0\n",
      "0\n",
      "0\n",
      "0\n",
      "0\n",
      "0\n",
      "0\n",
      "0\n",
      "0\n",
      "0\n",
      "0\n",
      "0\n",
      "0\n",
      "0\n",
      "0\n",
      "0\n",
      "0\n",
      "0\n",
      "0\n",
      "[ 9  5 20 11 22  2  7 13 15 18 19 16  1  0  4]\n",
      "0\n",
      "0\n",
      "[1]\n",
      "0\n",
      "0\n",
      "0\n",
      "0\n",
      "[1 3]\n",
      "0\n",
      "0\n",
      "0\n",
      "0\n",
      "0\n",
      "0\n",
      "0\n",
      "0\n",
      "0\n",
      "0\n",
      "0\n",
      "0\n",
      "0\n",
      "0\n",
      "0\n",
      "0\n",
      "0\n",
      "0\n",
      "[ 3 15  8  6 13  4 10]\n"
     ]
    }
   ],
   "source": [
    "for img_path in images_path:\n",
    "    img = cv2.imread(img_path)\n",
    "    img = cv2.resize(img, None, fx=0.4, fy=0.4)\n",
    "    height, width, channels = img.shape\n",
    "    \n",
    "    blob = cv2.dnn.blobFromImage(img, 0.00392, (416, 416), (0, 0, 0), True, crop=False)\n",
    "    net.setInput(blob)\n",
    "    outs = net.forward(output_layers)\n",
    "    \n",
    "    class_ids = []\n",
    "    confidences = []\n",
    "    boxes = []\n",
    "    \n",
    "    for out in outs:\n",
    "        for detection in out:\n",
    "            scores = detection[5:]\n",
    "            class_id = np.argmax(scores)\n",
    "            confidence = scores[class_id]\n",
    "            \n",
    "            if confidence > 0.3:\n",
    "                print(class_id)\n",
    "                center_x = int(detection[0]*width)\n",
    "                center_y = int(detection[1]*height)\n",
    "                w = int(detection[2]*width)\n",
    "                h = int(detection[3]*height)\n",
    "                \n",
    "                x = int(center_x - w / 2)\n",
    "                y = int(center_y - h / 2)\n",
    "                \n",
    "                boxes.append([x, y, w, h])\n",
    "                confidences.append(float(confidence))\n",
    "                class_ids.append(class_id)\n",
    "                \n",
    "    indexes = cv2.dnn.NMSBoxes(boxes, confidences, 0.5, 0.4)\n",
    "    print(indexes)\n",
    "    font = cv2.FONT_HERSHEY_PLAIN\n",
    "    for i in range(len(boxes)):\n",
    "        if i in indexes:\n",
    "            x, y, w, h = boxes[i]\n",
    "            label = str(classes[class_ids[i]])\n",
    "            confidence = str(confidences[i])[:4]\n",
    "            #color = colors[class_ids[i]]\n",
    "            color = np.random.uniform(0, 255, size=(len(classes), 3))[0]\n",
    "            cv2.rectangle(img, (x, y), (x+w, y+h), color, 2)\n",
    "            cv2.putText(img, label+': '+confidence, (x, y + 33), font, 1, color, 2)\n",
    "    \n",
    "    cv2.imwrite(save_path[0]+img_path.split('/')[1].split('\\\\')[1], img)\n",
    "    cv2.imshow('Image', img)\n",
    "    cv2.waitKey(0)\n",
    "cv2.destroyAllWindows()"
   ]
  },
  {
   "cell_type": "code",
   "execution_count": null,
   "id": "6bcae217",
   "metadata": {},
   "outputs": [],
   "source": []
  }
 ],
 "metadata": {
  "kernelspec": {
   "display_name": "Python 3 (ipykernel)",
   "language": "python",
   "name": "python3"
  },
  "language_info": {
   "codemirror_mode": {
    "name": "ipython",
    "version": 3
   },
   "file_extension": ".py",
   "mimetype": "text/x-python",
   "name": "python",
   "nbconvert_exporter": "python",
   "pygments_lexer": "ipython3",
   "version": "3.10.8"
  }
 },
 "nbformat": 4,
 "nbformat_minor": 5
}
